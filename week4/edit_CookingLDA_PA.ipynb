{
 "cells": [
  {
   "cell_type": "markdown",
   "metadata": {},
   "source": [
    "# Programming Assignment: \n",
    "## Готовим LDA по рецептам"
   ]
  },
  {
   "cell_type": "markdown",
   "metadata": {},
   "source": [
    "Как вы уже знаете, в тематическом моделировании делается предположение о том, что для определения тематики порядок слов в документе не важен; об этом гласит гипотеза «мешка слов». Сегодня мы будем работать с несколько нестандартной для тематического моделирования коллекцией, которую можно назвать «мешком ингредиентов», потому что на состоит из рецептов блюд разных кухонь. Тематические модели ищут слова, которые часто вместе встречаются в документах, и составляют из них темы. Мы попробуем применить эту идею к рецептам и найти кулинарные «темы». Эта коллекция хороша тем, что не требует предобработки. Кроме того, эта задача достаточно наглядно иллюстрирует принцип работы тематических моделей.\n",
    "\n",
    "Для выполнения заданий, помимо часто используемых в курсе библиотек, потребуются модули *json* и *gensim*. Первый входит в дистрибутив Anaconda, второй можно поставить командой \n",
    "\n",
    "*pip install gensim*\n",
    "\n",
    "Построение модели занимает некоторое время. На ноутбуке с процессором Intel Core i7 и тактовой частотой 2400 МГц на построение одной модели уходит менее 10 минут."
   ]
  },
  {
   "cell_type": "markdown",
   "metadata": {},
   "source": [
    "### Загрузка данных"
   ]
  },
  {
   "cell_type": "markdown",
   "metadata": {},
   "source": [
    "Коллекция дана в json-формате: для каждого рецепта известны его id, кухня (cuisine) и список ингредиентов, в него входящих. Загрузить данные можно с помощью модуля json (он входит в дистрибутив Anaconda):"
   ]
  },
  {
   "cell_type": "code",
   "execution_count": 1,
   "metadata": {},
   "outputs": [],
   "source": [
    "import json"
   ]
  },
  {
   "cell_type": "code",
   "execution_count": 2,
   "metadata": {},
   "outputs": [],
   "source": [
    "with open(\"recipes.json\") as f:\n",
    "    recipes = json.load(f)"
   ]
  },
  {
   "cell_type": "code",
   "execution_count": 3,
   "metadata": {},
   "outputs": [
    {
     "name": "stdout",
     "output_type": "stream",
     "text": [
      "{u'cuisine': u'greek', u'id': 10259, u'ingredients': [u'romaine lettuce', u'black olives', u'grape tomatoes', u'garlic', u'pepper', u'purple onion', u'seasoning', u'garbanzo beans', u'feta cheese crumbles']}\n"
     ]
    }
   ],
   "source": [
    "print recipes[0]"
   ]
  },
  {
   "cell_type": "markdown",
   "metadata": {},
   "source": [
    "### Составление корпуса"
   ]
  },
  {
   "cell_type": "code",
   "execution_count": 4,
   "metadata": {},
   "outputs": [
    {
     "name": "stderr",
     "output_type": "stream",
     "text": [
      "D:\\Programs\\Anaconda\\envs\\py27\\lib\\site-packages\\gensim\\utils.py:865: UserWarning: detected Windows; aliasing chunkize to chunkize_serial\n",
      "  warnings.warn(\"detected Windows; aliasing chunkize to chunkize_serial\")\n"
     ]
    }
   ],
   "source": [
    "from gensim import corpora, models\n",
    "import numpy as np"
   ]
  },
  {
   "cell_type": "markdown",
   "metadata": {},
   "source": [
    "Наша коллекция небольшая, и целиком помещается в оперативную память. Gensim может работать с такими данными и не требует их сохранения на диск в специальном формате. Для этого коллекция должна быть представлена в виде списка списков, каждый внутренний список соответствует отдельному документу и состоит из его слов. Пример коллекции из двух документов: \n",
    "\n",
    "[[\"hello\", \"world\"], [\"programming\", \"in\", \"python\"]]\n",
    "\n",
    "Преобразуем наши данные в такой формат, а затем создадим объекты corpus и dictionary, с которыми будет работать модель."
   ]
  },
  {
   "cell_type": "code",
   "execution_count": 5,
   "metadata": {},
   "outputs": [],
   "source": [
    "texts = [recipe[\"ingredients\"] for recipe in recipes]\n",
    "dictionary = corpora.Dictionary(texts)   # составляем словарь\n",
    "corpus = [dictionary.doc2bow(text) for text in texts]  # составляем корпус документов"
   ]
  },
  {
   "cell_type": "code",
   "execution_count": 6,
   "metadata": {},
   "outputs": [
    {
     "name": "stdout",
     "output_type": "stream",
     "text": [
      "[u'romaine lettuce', u'black olives', u'grape tomatoes', u'garlic', u'pepper', u'purple onion', u'seasoning', u'garbanzo beans', u'feta cheese crumbles']\n",
      "[(0, 1), (1, 1), (2, 1), (3, 1), (4, 1), (5, 1), (6, 1), (7, 1), (8, 1)]\n"
     ]
    }
   ],
   "source": [
    "print texts[0]\n",
    "print corpus[0]"
   ]
  },
  {
   "cell_type": "markdown",
   "metadata": {},
   "source": [
    "У объекта dictionary есть полезная переменная dictionary.token2id, позволяющая находить соответствие между ингредиентами и их индексами."
   ]
  },
  {
   "cell_type": "markdown",
   "metadata": {},
   "source": [
    "### Обучение модели\n",
    "Вам может понадобиться [документация](https://radimrehurek.com/gensim/models/ldamodel.html) LDA в gensim."
   ]
  },
  {
   "cell_type": "markdown",
   "metadata": {},
   "source": [
    "__Задание 1.__ Обучите модель LDA с 40 темами, установив количество проходов по коллекции 5 и оставив остальные параметры по умолчанию. \n",
    "\n",
    "\n",
    "Затем вызовите метод модели *show_topics*, указав количество тем 40 и количество токенов 10, и сохраните результат (топы ингредиентов в темах) в отдельную переменную. Если при вызове метода *show_topics* указать параметр *formatted=True*, то топы ингредиентов будет удобно выводить на печать, если *formatted=False*, будет удобно работать со списком программно. Выведите топы на печать, рассмотрите темы, а затем ответьте на вопрос:\n",
    "\n",
    "Сколько раз ингредиенты \"salt\", \"sugar\", \"water\", \"mushrooms\", \"chicken\", \"eggs\" встретились среди топов-10 всех 40 тем? При ответе __не нужно__ учитывать составные ингредиенты, например, \"hot water\".\n",
    "\n",
    "Передайте 6 чисел в функцию save_answers1 и загрузите сгенерированный файл в форму.\n",
    "\n",
    "У gensim нет возможности фиксировать случайное приближение через параметры метода, но библиотека использует numpy для инициализации матриц. Поэтому, по утверждению автора библиотеки, фиксировать случайное приближение нужно командой, которая написана в следующей ячейке. __Перед строкой кода с построением модели обязательно вставляйте указанную строку фиксации random.seed.__"
   ]
  },
  {
   "cell_type": "code",
   "execution_count": 7,
   "metadata": {},
   "outputs": [
    {
     "name": "stdout",
     "output_type": "stream",
     "text": [
      "Wall time: 6min 20s\n"
     ]
    }
   ],
   "source": [
    "np.random.seed(76543)\n",
    "# здесь код для построения модели:\n",
    "%time ldamodel = models.LdaModel(corpus=corpus, id2word=dictionary, num_topics=40, passes=5)"
   ]
  },
  {
   "cell_type": "code",
   "execution_count": 8,
   "metadata": {
    "scrolled": true
   },
   "outputs": [
    {
     "data": {
      "text/plain": [
       "[(0,\n",
       "  [(u'salt', 0.08272554679748946),\n",
       "   (u'cooking spray', 0.080315765339626519),\n",
       "   (u'garlic cloves', 0.079497577421526855),\n",
       "   (u'olive oil', 0.063701738565159552),\n",
       "   (u'chopped onion', 0.06369883414961848),\n",
       "   (u'fat free less sodium chicken broth', 0.03542869687610041),\n",
       "   (u'crushed red pepper', 0.034279080876904885),\n",
       "   (u'water', 0.034236340577608299),\n",
       "   (u'black pepper', 0.033008901590063471),\n",
       "   (u'ground black pepper', 0.031967658022379199)]),\n",
       " (1,\n",
       "  [(u'carrots', 0.13016303288245015),\n",
       "   (u'onions', 0.077427587673201667),\n",
       "   (u'cabbage', 0.05223542597297353),\n",
       "   (u'spinach', 0.043114009107410443),\n",
       "   (u'celery', 0.039756486834713993),\n",
       "   (u'water', 0.03882486768019467),\n",
       "   (u'beef', 0.036512794836589479),\n",
       "   (u'low sodium chicken broth', 0.031274197021606776),\n",
       "   (u'salt', 0.029083608761411688),\n",
       "   (u'green cabbage', 0.025696170959706253)]),\n",
       " (2,\n",
       "  [(u'dry red wine', 0.065976910937656216),\n",
       "   (u'shortening', 0.046548563175849753),\n",
       "   (u'beef broth', 0.045595776970031067),\n",
       "   (u'vegetable oil cooking spray', 0.044639430969227956),\n",
       "   (u'grape tomatoes', 0.044296605936575036),\n",
       "   (u'cilantro sprigs', 0.039024793030259783),\n",
       "   (u'french bread', 0.034564495735168052),\n",
       "   (u'dried rosemary', 0.032915117949667574),\n",
       "   (u'all-purpose flour', 0.029791949970061241),\n",
       "   (u'sun-dried tomatoes', 0.029551099169572707)]),\n",
       " (3,\n",
       "  [(u'oil', 0.1168047971953517),\n",
       "   (u'potatoes', 0.11246226731277102),\n",
       "   (u'salt', 0.080664949323854221),\n",
       "   (u'chickpeas', 0.04992749245108364),\n",
       "   (u'pepper', 0.048956382781642958),\n",
       "   (u'onions', 0.04817678249322626),\n",
       "   (u'rice', 0.04577881070797786),\n",
       "   (u'water', 0.029528053284775566),\n",
       "   (u'coriander', 0.029097361493563029),\n",
       "   (u'saffron', 0.029056512568765448)]),\n",
       " (4,\n",
       "  [(u'green bell pepper', 0.060701202478307417),\n",
       "   (u'garlic powder', 0.056556523215000848),\n",
       "   (u'salt', 0.055464595931986764),\n",
       "   (u'cayenne pepper', 0.05364391417341325),\n",
       "   (u'onions', 0.03930602507225666),\n",
       "   (u'dried thyme', 0.034363248636521453),\n",
       "   (u'paprika', 0.031722436012575302),\n",
       "   (u'worcestershire sauce', 0.030095138443782556),\n",
       "   (u'onion powder', 0.026637303062034955),\n",
       "   (u'ground black pepper', 0.026198957615161843)]),\n",
       " (5,\n",
       "  [(u'ground cumin', 0.073224232561434149),\n",
       "   (u'salt', 0.052710383064241209),\n",
       "   (u'ground coriander', 0.04750490499145215),\n",
       "   (u'paprika', 0.041184558938963452),\n",
       "   (u'olive oil', 0.037786494541740726),\n",
       "   (u'onions', 0.035301772346616342),\n",
       "   (u'garlic', 0.03263412724916747),\n",
       "   (u'cayenne pepper', 0.022796340837944157),\n",
       "   (u'garlic cloves', 0.021645248806059524),\n",
       "   (u'tumeric', 0.020400486692637335)]),\n",
       " (6,\n",
       "  [(u'ground cinnamon', 0.11299346341027641),\n",
       "   (u'ground nutmeg', 0.086847833990435996),\n",
       "   (u'honey', 0.055507300327755978),\n",
       "   (u'raisins', 0.051726070328359131),\n",
       "   (u'ground cloves', 0.048155134487581339),\n",
       "   (u'ground allspice', 0.046469385691389968),\n",
       "   (u'brown sugar', 0.034095712743052634),\n",
       "   (u'light brown sugar', 0.032555277607797445),\n",
       "   (u'ground ginger', 0.031052897256233308),\n",
       "   (u'margarine', 0.02991943856938982)]),\n",
       " (7,\n",
       "  [(u'zucchini', 0.081779549645750071),\n",
       "   (u'fresh basil', 0.078292446313770983),\n",
       "   (u'plum tomatoes', 0.077667498894694445),\n",
       "   (u'olive oil', 0.074795416144399482),\n",
       "   (u'salt', 0.046269919883313068),\n",
       "   (u'eggplant', 0.045011744057166202),\n",
       "   (u'garlic cloves', 0.032743877728247821),\n",
       "   (u'grated parmesan cheese', 0.030689963401448684),\n",
       "   (u'spaghetti', 0.027637975572910353),\n",
       "   (u'red bell pepper', 0.027610163219238981)]),\n",
       " (8,\n",
       "  [(u'cooking oil', 0.089135593231034926),\n",
       "   (u'basmati rice', 0.058525674568304722),\n",
       "   (u'salt', 0.056770926683783661),\n",
       "   (u'vinegar', 0.056643125766547134),\n",
       "   (u'water', 0.051001953714776317),\n",
       "   (u'ginger', 0.048618610425552877),\n",
       "   (u'curry leaves', 0.041425683943082554),\n",
       "   (u'mint leaves', 0.03331124701755242),\n",
       "   (u'red cabbage', 0.026614577314933132),\n",
       "   (u'kimchi', 0.025854417370906494)]),\n",
       " (9,\n",
       "  [(u'dried oregano', 0.075342381796705285),\n",
       "   (u'onions', 0.074329638714681998),\n",
       "   (u'garlic', 0.06452749463907799),\n",
       "   (u'tomato sauce', 0.057586706427703416),\n",
       "   (u'salt', 0.055227627166097235),\n",
       "   (u'diced tomatoes', 0.052823762545033945),\n",
       "   (u'ground beef', 0.050453963492686757),\n",
       "   (u'dried basil', 0.041173798711935113),\n",
       "   (u'tomato paste', 0.040113136640874118),\n",
       "   (u'olive oil', 0.036316249841425431)]),\n",
       " (10,\n",
       "  [(u'ground black pepper', 0.039518669326397936),\n",
       "   (u'russet potatoes', 0.038478006722796006),\n",
       "   (u'large eggs', 0.03682820345228658),\n",
       "   (u'dry bread crumbs', 0.036519840364323056),\n",
       "   (u'chopped fresh chives', 0.032470689729042879),\n",
       "   (u'butter', 0.032108792183435791),\n",
       "   (u'red potato', 0.028590013542548837),\n",
       "   (u'ham', 0.028079719203308456),\n",
       "   (u'salt', 0.025318922727320736),\n",
       "   (u'all-purpose flour', 0.024757534396345822)]),\n",
       " (11,\n",
       "  [(u'jalapeno chilies', 0.065601824097514153),\n",
       "   (u'salt', 0.064436314445619508),\n",
       "   (u'avocado', 0.049230196150176472),\n",
       "   (u'lime', 0.040356655479829917),\n",
       "   (u'garlic', 0.03394949337805548),\n",
       "   (u'purple onion', 0.033907681758099668),\n",
       "   (u'olive oil', 0.033125607095506868),\n",
       "   (u'cilantro', 0.031578514512513596),\n",
       "   (u'fresh cilantro', 0.030626995840766044),\n",
       "   (u'ground cumin', 0.028928350420480121)]),\n",
       " (12,\n",
       "  [(u'cucumber', 0.10243052517819114),\n",
       "   (u'lean ground beef', 0.067829707044085613),\n",
       "   (u'cider vinegar', 0.047469848852872157),\n",
       "   (u'feta cheese', 0.043669577154559019),\n",
       "   (u'romaine lettuce', 0.038742872508497603),\n",
       "   (u'lemon wedge', 0.038316178958402392),\n",
       "   (u'cherry tomatoes', 0.036098289648824729),\n",
       "   (u'cream', 0.032771886250913977),\n",
       "   (u'purple onion', 0.03129586541223197),\n",
       "   (u'chili', 0.029412540211151545)]),\n",
       " (13,\n",
       "  [(u'sour cream', 0.082918042314723772),\n",
       "   (u'salsa', 0.055886774498961872),\n",
       "   (u'shredded cheddar cheese', 0.048811191090141447),\n",
       "   (u'flour tortillas', 0.047371005951654152),\n",
       "   (u'black beans', 0.037834110368553206),\n",
       "   (u'chili powder', 0.037711510131529145),\n",
       "   (u'green onions', 0.032931821407080751),\n",
       "   (u'ground cumin', 0.029534198334413304),\n",
       "   (u'cheddar cheese', 0.023859060428696746),\n",
       "   (u'corn tortillas', 0.023757514320805525)]),\n",
       " (14,\n",
       "  [(u'cinnamon sticks', 0.074361290574771532),\n",
       "   (u'sweet potatoes', 0.064709517509298001),\n",
       "   (u'black peppercorns', 0.051286762417502622),\n",
       "   (u'white sugar', 0.047840135838041919),\n",
       "   (u'orange', 0.04580125610368975),\n",
       "   (u'fresh mint', 0.043480399976897705),\n",
       "   (u'sugar', 0.042721616099810567),\n",
       "   (u'fennel seeds', 0.035706842908967841),\n",
       "   (u'water', 0.035612496580962674),\n",
       "   (u'red wine', 0.027852454090670557)]),\n",
       " (15,\n",
       "  [(u'cold water', 0.090734962149585249),\n",
       "   (u'sauce', 0.078428146581194916),\n",
       "   (u'ground white pepper', 0.059521887589701755),\n",
       "   (u'boiling water', 0.057504455159495815),\n",
       "   (u'slivered almonds', 0.032885978647542786),\n",
       "   (u'sugar', 0.03122544569934705),\n",
       "   (u'cake flour', 0.029739867566467678),\n",
       "   (u'panko breadcrumbs', 0.026984144757307701),\n",
       "   (u'green olives', 0.026318671747296064),\n",
       "   (u'szechwan peppercorns', 0.023750973353692514)]),\n",
       " (16,\n",
       "  [(u'extra-virgin olive oil', 0.099902670071229424),\n",
       "   (u'garlic cloves', 0.05969448844718702),\n",
       "   (u'olive oil', 0.04959276194357097),\n",
       "   (u'flat leaf parsley', 0.046717431081104877),\n",
       "   (u'freshly ground pepper', 0.039661070725561423),\n",
       "   (u'salt', 0.037576397608641135),\n",
       "   (u'dry white wine', 0.036701832035566061),\n",
       "   (u'fresh lemon juice', 0.036694064891409396),\n",
       "   (u'large garlic cloves', 0.031758803696150521),\n",
       "   (u'ground black pepper', 0.030003678547466592)]),\n",
       " (17,\n",
       "  [(u'coconut milk', 0.12172719188207475),\n",
       "   (u'white wine', 0.050322656740338534),\n",
       "   (u'parsley', 0.046404280823440926),\n",
       "   (u'garlic', 0.042843658714661247),\n",
       "   (u'thyme', 0.039783200318437774),\n",
       "   (u'onions', 0.037203539263801724),\n",
       "   (u'sea salt', 0.03322990641991444),\n",
       "   (u'chicken thighs', 0.030622889442469246),\n",
       "   (u'coconut oil', 0.028938052142979037),\n",
       "   (u'salt', 0.026125153488940633)]),\n",
       " (18,\n",
       "  [(u'salt', 0.10381742377231949),\n",
       "   (u'all-purpose flour', 0.092698866562907184),\n",
       "   (u'eggs', 0.085916104113918895),\n",
       "   (u'milk', 0.084900076429446289),\n",
       "   (u'butter', 0.070842980922765184),\n",
       "   (u'baking powder', 0.055141366445864648),\n",
       "   (u'sugar', 0.048884950881228489),\n",
       "   (u'flour', 0.037273124504661012),\n",
       "   (u'baking soda', 0.0341814393250153),\n",
       "   (u'buttermilk', 0.029932045710411047)]),\n",
       " (19,\n",
       "  [(u'curry powder', 0.13970899488628474),\n",
       "   (u'frozen peas', 0.073674612535929759),\n",
       "   (u'long-grain rice', 0.067054199882760512),\n",
       "   (u'sweetened condensed milk', 0.054656389666059881),\n",
       "   (u'greek yogurt', 0.04798707555179868),\n",
       "   (u'black-eyed peas', 0.039082838332851561),\n",
       "   (u'egg whites', 0.038164347288332616),\n",
       "   (u'cauliflower', 0.032741853959775531),\n",
       "   (u'ground cayenne pepper', 0.027371469452021898),\n",
       "   (u'sugar pea', 0.024063317965376446)]),\n",
       " (20,\n",
       "  [(u'peanut oil', 0.041046011514613408),\n",
       "   (u'beansprouts', 0.034393463200642342),\n",
       "   (u'Sriracha', 0.033107556094563596),\n",
       "   (u'rice noodles', 0.030468005156074354),\n",
       "   (u'medium shrimp', 0.030403027092151761),\n",
       "   (u'fish sauce', 0.028918536943893805),\n",
       "   (u'peanuts', 0.027942786850001941),\n",
       "   (u'peeled fresh ginger', 0.026892920742325098),\n",
       "   (u'ground pork', 0.02441304027451777),\n",
       "   (u'minced ginger', 0.024252269655066272)]),\n",
       " (21,\n",
       "  [(u'boneless skinless chicken breast halves', 0.11404346022050108),\n",
       "   (u'coarse salt', 0.10488716699395918),\n",
       "   (u'ground pepper', 0.065801514849129952),\n",
       "   (u'mayonaise', 0.06120996891627925),\n",
       "   (u'sweet onion', 0.059105116450507353),\n",
       "   (u'white rice', 0.04278493787110102),\n",
       "   (u'minced garlic', 0.040729389468642019),\n",
       "   (u'minced onion', 0.034774850249789865),\n",
       "   (u'dried parsley', 0.030566919039513734),\n",
       "   (u'ketchup', 0.027018287162535636)]),\n",
       " (22,\n",
       "  [(u'diced onions', 0.076484565334487442),\n",
       "   (u'lettuce', 0.051722839994964943),\n",
       "   (u'self rising flour', 0.051441576007081484),\n",
       "   (u'provolone cheese', 0.045772655424796728),\n",
       "   (u'grits', 0.039208297087295299),\n",
       "   (u'iceberg lettuce', 0.029934730024417912),\n",
       "   (u'frozen pastry puff sheets', 0.026904430708833572),\n",
       "   (u'shredded cheese', 0.02532240713936396),\n",
       "   (u'romano cheese', 0.025313247817361783),\n",
       "   (u'semi-sweet chocolate morsels', 0.023751920392447019)]),\n",
       " (23,\n",
       "  [(u'lemon juice', 0.18326330575630412),\n",
       "   (u'dijon mustard', 0.084629991017165382),\n",
       "   (u'creole seasoning', 0.052220226754950277),\n",
       "   (u'white pepper', 0.042124933666680589),\n",
       "   (u'pork tenderloin', 0.041906941132415831),\n",
       "   (u'fresh orange juice', 0.039895850346995172),\n",
       "   (u'nutmeg', 0.038647523546880537),\n",
       "   (u'kale', 0.029416076567526817),\n",
       "   (u'mayonaise', 0.029005088126472692),\n",
       "   (u'salmon fillets', 0.028270566448090301)]),\n",
       " (24,\n",
       "  [(u'whipping cream', 0.076151977039109198),\n",
       "   (u'sugar', 0.066835860896271276),\n",
       "   (u'orange juice', 0.064918730726886503),\n",
       "   (u'hot water', 0.060718297168320078),\n",
       "   (u'chopped garlic', 0.056379713014674857),\n",
       "   (u'grated nutmeg', 0.038584685744749173),\n",
       "   (u'bananas', 0.037261579316190389),\n",
       "   (u'bread flour', 0.033911196322114825),\n",
       "   (u'vanilla beans', 0.027033972743809909),\n",
       "   (u'water', 0.026768980873337157)]),\n",
       " (25,\n",
       "  [(u'salt', 0.067335750022066168),\n",
       "   (u'cumin seed', 0.061223398173519412),\n",
       "   (u'onions', 0.054472869353531454),\n",
       "   (u'ground turmeric', 0.04354014324384714),\n",
       "   (u'garam masala', 0.043030728188749784),\n",
       "   (u'green chilies', 0.039810784845899949),\n",
       "   (u'chili powder', 0.03267234502143003),\n",
       "   (u'tomatoes', 0.031318218103484244),\n",
       "   (u'oil', 0.028568610905595794),\n",
       "   (u'clove', 0.027942581160366204)]),\n",
       " (26,\n",
       "  [(u'fish sauce', 0.084100145112892474),\n",
       "   (u'white vinegar', 0.047994943420107204),\n",
       "   (u'sugar', 0.042100642989395698),\n",
       "   (u'lime juice', 0.036585745943818596),\n",
       "   (u'garlic', 0.035762433194437039),\n",
       "   (u'vegetable oil', 0.032097300202764613),\n",
       "   (u'lemongrass', 0.031522691162217412),\n",
       "   (u'shallots', 0.031137737607498193),\n",
       "   (u'water', 0.027963220942795526),\n",
       "   (u'red chili peppers', 0.027937803804461946)]),\n",
       " (27,\n",
       "  [(u'grated parmesan cheese', 0.10396706142744762),\n",
       "   (u'warm water', 0.057124652005232042),\n",
       "   (u'salt', 0.053733918944142124),\n",
       "   (u'shredded mozzarella cheese', 0.046618119317498909),\n",
       "   (u'olive oil', 0.044407381546774559),\n",
       "   (u'ricotta cheese', 0.03925485711209404),\n",
       "   (u'active dry yeast', 0.037814064869849486),\n",
       "   (u'mozzarella cheese', 0.036439138055697942),\n",
       "   (u'italian seasoning', 0.031405210510355559),\n",
       "   (u'eggs', 0.030968526762210003)]),\n",
       " (28,\n",
       "  [(u'shrimp', 0.19508924356569157),\n",
       "   (u'pork', 0.055556756114979011),\n",
       "   (u'baby spinach', 0.054056424855559219),\n",
       "   (u'unsweetened coconut milk', 0.033169600156391019),\n",
       "   (u'fresh tomatoes', 0.032021518520942378),\n",
       "   (u'noodles', 0.030648426681834057),\n",
       "   (u'black mustard seeds', 0.030446873755399291),\n",
       "   (u'jasmine rice', 0.028375637337907288),\n",
       "   (u'sausage casings', 0.027884097242210141),\n",
       "   (u'sea scallops', 0.024196290354968706)]),\n",
       " (29,\n",
       "  [(u'shallots', 0.14630486627432276),\n",
       "   (u'mushrooms', 0.10436306695612789),\n",
       "   (u'white wine vinegar', 0.064335521123798894),\n",
       "   (u'butter', 0.039057623143295264),\n",
       "   (u'mussels', 0.038482161795683742),\n",
       "   (u'olive oil', 0.038478580284593562),\n",
       "   (u'boneless chicken breast', 0.032462396795093836),\n",
       "   (u'dry white wine', 0.026672423997691066),\n",
       "   (u'chopped fresh sage', 0.025707563650688558),\n",
       "   (u'chorizo sausage', 0.020185619633315676)]),\n",
       " (30,\n",
       "  [(u'unsalted butter', 0.08749391734799046),\n",
       "   (u'large eggs', 0.085537324663147507),\n",
       "   (u'sugar', 0.06936304151492928),\n",
       "   (u'salt', 0.055987831911700973),\n",
       "   (u'all-purpose flour', 0.049871563267393407),\n",
       "   (u'heavy cream', 0.047896027253636009),\n",
       "   (u'whole milk', 0.038214889644264352),\n",
       "   (u'vanilla extract', 0.03442261308263507),\n",
       "   (u'granulated sugar', 0.034160118556360246),\n",
       "   (u'large egg yolks', 0.029040139179242967)]),\n",
       " (31,\n",
       "  [(u'ground red pepper', 0.068312059378858078),\n",
       "   (u'salt', 0.065071217162202558),\n",
       "   (u'finely chopped onion', 0.056469473229702145),\n",
       "   (u'chopped celery', 0.049571460055164857),\n",
       "   (u'green beans', 0.044938081178175687),\n",
       "   (u'water', 0.04172353883817799),\n",
       "   (u'hot pepper sauce', 0.03380939116553959),\n",
       "   (u'long grain white rice', 0.033698947511594121),\n",
       "   (u'chopped onion', 0.032453738237110535),\n",
       "   (u'chopped green bell pepper', 0.030842398842567956)]),\n",
       " (32,\n",
       "  [(u'fine sea salt', 0.066664612948272833),\n",
       "   (u'lemon zest', 0.055994089782032276),\n",
       "   (u'fresh spinach', 0.054040182620818687),\n",
       "   (u'water', 0.053238092758952325),\n",
       "   (u'yukon gold potatoes', 0.046107316341118879),\n",
       "   (u'collard greens', 0.037428932421313954),\n",
       "   (u'rice flour', 0.034378270783299802),\n",
       "   (u'tofu', 0.032440550174626562),\n",
       "   (u'dried shiitake mushrooms', 0.03042435151059019),\n",
       "   (u'seasoning salt', 0.028961030574490773)]),\n",
       " (33,\n",
       "  [(u'balsamic vinegar', 0.14181458850878581),\n",
       "   (u'dark soy sauce', 0.074719822452333398),\n",
       "   (u'baguette', 0.066835766685314962),\n",
       "   (u'broccoli', 0.05387415824728891),\n",
       "   (u'arugula', 0.040394869773817274),\n",
       "   (u'mint', 0.034275485365545741),\n",
       "   (u'penne', 0.033296853017633646),\n",
       "   (u'red kidney beans', 0.020500702324686749),\n",
       "   (u'quinoa', 0.020492200778908662),\n",
       "   (u'phyllo dough', 0.018740471546946944)]),\n",
       " (34,\n",
       "  [(u'onions', 0.081551092541978176),\n",
       "   (u'salt', 0.0674898105072093),\n",
       "   (u'garlic', 0.059224022428398443),\n",
       "   (u'olive oil', 0.05075105921254465),\n",
       "   (u'bay leaves', 0.045523914446054511),\n",
       "   (u'ground black pepper', 0.043249016512209602),\n",
       "   (u'chicken stock', 0.042469325040541447),\n",
       "   (u'lemon', 0.038944088491152988),\n",
       "   (u'chicken', 0.037108582102051396),\n",
       "   (u'bacon', 0.034503494844969944)]),\n",
       " (35,\n",
       "  [(u'soy sauce', 0.09588417890672872),\n",
       "   (u'sesame oil', 0.051021911260369),\n",
       "   (u'sugar', 0.041969978912902328),\n",
       "   (u'corn starch', 0.040218575795226051),\n",
       "   (u'garlic', 0.039011029548583313),\n",
       "   (u'green onions', 0.035681533159697826),\n",
       "   (u'scallions', 0.034480908543302387),\n",
       "   (u'rice vinegar', 0.033104546227294793),\n",
       "   (u'water', 0.029556424258569879),\n",
       "   (u'salt', 0.029134539153088723)]),\n",
       " (36,\n",
       "  [(u'cheese', 0.10535357214278764),\n",
       "   (u'garlic salt', 0.062590095130728468),\n",
       "   (u'rice wine', 0.059109840660583217),\n",
       "   (u'chives', 0.056178959624412647),\n",
       "   (u'chicken breast halves', 0.042150965149258771),\n",
       "   (u'shredded sharp cheddar cheese', 0.039745159421602234),\n",
       "   (u'roasted peanuts', 0.039073551631640842),\n",
       "   (u'Mexican cheese blend', 0.037419987842312069),\n",
       "   (u'non-fat sour cream', 0.036411913726136211),\n",
       "   (u'dashi', 0.032610197619603952)]),\n",
       " (37,\n",
       "  [(u'chicken broth', 0.21498303829127233),\n",
       "   (u'chicken breasts', 0.1326583864935621),\n",
       "   (u'crushed red pepper flakes', 0.08558270313632646),\n",
       "   (u'onions', 0.04536093278765372),\n",
       "   (u'garlic', 0.04376669245769832),\n",
       "   (u'pepper', 0.025511387535523084),\n",
       "   (u'poblano chiles', 0.025503150336289738),\n",
       "   (u'frozen corn', 0.025212020868972351),\n",
       "   (u'olive oil', 0.022245611171442338),\n",
       "   (u'chile powder', 0.019829703670637949)]),\n",
       " (38,\n",
       "  [(u'olive oil', 0.067765912031193851),\n",
       "   (u'red wine vinegar', 0.060467376668503242),\n",
       "   (u'salt', 0.057660572224498392),\n",
       "   (u'garlic', 0.039352923775599229),\n",
       "   (u'fresh basil leaves', 0.038413799056435834),\n",
       "   (u'parmesan cheese', 0.037783423124367894),\n",
       "   (u'extra-virgin olive oil', 0.036410616604633531),\n",
       "   (u'pepper', 0.031463664431954315),\n",
       "   (u'feta cheese crumbles', 0.029156856938582828),\n",
       "   (u'tomatoes', 0.029063415938801577)]),\n",
       " (39,\n",
       "  [(u'canola oil', 0.10231332541491252),\n",
       "   (u'kosher salt', 0.091408676847404488),\n",
       "   (u'fresh lime juice', 0.061580403945851493),\n",
       "   (u'chopped cilantro fresh', 0.046314963974819746),\n",
       "   (u'garlic cloves', 0.04582204722011373),\n",
       "   (u'vegetable oil', 0.031157317885442907),\n",
       "   (u'chiles', 0.0311536931124075),\n",
       "   (u'serrano chile', 0.028540075823185865),\n",
       "   (u'boneless chicken skinless thigh', 0.026516317482756464),\n",
       "   (u'ground black pepper', 0.024392903833583165)])]"
      ]
     },
     "execution_count": 8,
     "metadata": {},
     "output_type": "execute_result"
    }
   ],
   "source": [
    "topics = ldamodel.show_topics(num_topics=40, num_words=10, formatted=False)\n",
    "topics"
   ]
  },
  {
   "cell_type": "code",
   "execution_count": 9,
   "metadata": {},
   "outputs": [
    {
     "data": {
      "text/plain": [
       "[20, 7, 10, 1, 1, 2]"
      ]
     },
     "execution_count": 9,
     "metadata": {},
     "output_type": "execute_result"
    }
   ],
   "source": [
    "def words_count(topics):\n",
    "    words_count = {}\n",
    "    for t in topics:\n",
    "        pairs = t[1]\n",
    "        for p in pairs:\n",
    "            if p[0] in words_count:\n",
    "                words_count[p[0]] = words_count[p[0]] + 1\n",
    "            else:\n",
    "                words_count[p[0]] = 1\n",
    "    return words_count\n",
    "words_count = words_count(topics)\n",
    "task_words = [\"salt\", \"sugar\", \"water\", \"mushrooms\", \"chicken\", \"eggs\"]\n",
    "[words_count.get(w) for w in task_words]"
   ]
  },
  {
   "cell_type": "code",
   "execution_count": 22,
   "metadata": {},
   "outputs": [],
   "source": [
    "def save_answers1(c_salt, c_sugar, c_water, c_mushrooms, c_chicken, c_eggs):\n",
    "    with open(\"cooking_LDA_pa_task1.txt\", \"w\") as fout:\n",
    "        fout.write(\" \".join([str(el) for el in [c_salt, c_sugar, c_water, c_mushrooms, c_chicken, c_eggs]]))"
   ]
  },
  {
   "cell_type": "code",
   "execution_count": 23,
   "metadata": {},
   "outputs": [],
   "source": [
    "save_answers1(23, 9, 10, 0, 1, 2)"
   ]
  },
  {
   "cell_type": "markdown",
   "metadata": {},
   "source": [
    "### Фильтрация словаря\n",
    "В топах тем гораздо чаще встречаются первые три рассмотренных ингредиента, чем последние три. При этом наличие в рецепте курицы, яиц и грибов яснее дает понять, что мы будем готовить, чем наличие соли, сахара и воды. Таким образом, даже в рецептах есть слова, часто встречающиеся в текстах и не несущие смысловой нагрузки, и поэтому их не желательно видеть в темах. Наиболее простой прием борьбы с такими фоновыми элементами — фильтрация словаря по частоте. Обычно словарь фильтруют с двух сторон: убирают очень редкие слова (в целях экономии памяти) и очень частые слова (в целях повышения интерпретируемости тем). Мы уберем только частые слова."
   ]
  },
  {
   "cell_type": "code",
   "execution_count": 10,
   "metadata": {},
   "outputs": [],
   "source": [
    "import copy\n",
    "dictionary2 = copy.deepcopy(dictionary)"
   ]
  },
  {
   "cell_type": "markdown",
   "metadata": {},
   "source": [
    "__Задание 2.__ У объекта dictionary2 есть переменная *dfs* — это словарь, ключами которого являются id токена, а элементами — число раз, сколько слово встретилось во всей коллекции. Сохраните в отдельный список ингредиенты, которые встретились в коллекции больше 4000 раз. Вызовите метод словаря *filter_tokens*, подав в качестве первого аргумента полученный список популярных ингредиентов. Вычислите две величины: dict_size_before и dict_size_after — размер словаря до и после фильтрации.\n",
    "\n",
    "Затем, используя новый словарь, создайте новый корпус документов, corpus2, по аналогии с тем, как это сделано в начале ноутбука. Вычислите две величины: corpus_size_before и corpus_size_after — суммарное количество ингредиентов в корпусе (для каждого документа вычислите число различных ингредиентов в нем и просуммируйте по всем документам) до и после фильтрации.\n",
    "\n",
    "Передайте величины dict_size_before, dict_size_after, corpus_size_before, corpus_size_after в функцию save_answers2 и загрузите сгенерированный файл в форму."
   ]
  },
  {
   "cell_type": "code",
   "execution_count": 11,
   "metadata": {},
   "outputs": [
    {
     "name": "stdout",
     "output_type": "stream",
     "text": [
      "(0, 4438)\n",
      "(4, 7380)\n",
      "(9, 4385)\n",
      "(12, 4784)\n",
      "(17, 18048)\n",
      "(21, 4847)\n",
      "(29, 7457)\n",
      "(45, 7972)\n",
      "(48, 6434)\n",
      "(54, 7971)\n",
      "(100, 6236)\n",
      "(117, 4632)\n"
     ]
    }
   ],
   "source": [
    "lst_4k = []\n",
    "for k, v in dictionary2.dfs.items():\n",
    "    if v > 4000:\n",
    "        print(k, v)\n",
    "        lst_4k.append(k)"
   ]
  },
  {
   "cell_type": "code",
   "execution_count": 12,
   "metadata": {},
   "outputs": [],
   "source": [
    "dict_size_before = len(dictionary2)"
   ]
  },
  {
   "cell_type": "code",
   "execution_count": 13,
   "metadata": {},
   "outputs": [],
   "source": [
    "dictionary2.filter_tokens(lst_4k)"
   ]
  },
  {
   "cell_type": "code",
   "execution_count": 14,
   "metadata": {},
   "outputs": [],
   "source": [
    "dict_size_after = len(dictionary2)"
   ]
  },
  {
   "cell_type": "code",
   "execution_count": 15,
   "metadata": {},
   "outputs": [],
   "source": [
    "corpus2 = [dictionary2.doc2bow(text) for text in texts]"
   ]
  },
  {
   "cell_type": "code",
   "execution_count": 16,
   "metadata": {},
   "outputs": [],
   "source": [
    "def corpus_size(corpus):\n",
    "    size = 0\n",
    "    for c in corpus:\n",
    "        size = size + len(c)\n",
    "    return size"
   ]
  },
  {
   "cell_type": "code",
   "execution_count": 64,
   "metadata": {},
   "outputs": [],
   "source": [
    "corpus_size_before = corpus_size(corpus)\n",
    "corpus_size_after = corpus_size(corpus2)"
   ]
  },
  {
   "cell_type": "code",
   "execution_count": 65,
   "metadata": {},
   "outputs": [],
   "source": [
    "def save_answers2(dict_size_before, dict_size_after, corpus_size_before, corpus_size_after):\n",
    "    with open(\"cooking_LDA_pa_task2.txt\", \"w\") as fout:\n",
    "        fout.write(\" \".join([str(el) for el in [dict_size_before, dict_size_after, corpus_size_before, corpus_size_after]]))"
   ]
  },
  {
   "cell_type": "code",
   "execution_count": 66,
   "metadata": {},
   "outputs": [],
   "source": [
    "save_answers2(dict_size_before, dict_size_after, corpus_size_before, corpus_size_after)"
   ]
  },
  {
   "cell_type": "markdown",
   "metadata": {},
   "source": [
    "### Сравнение когерентностей\n",
    "__Задание 3.__ Постройте еще одну модель по корпусу corpus2 и словарю dictionary2, остальные параметры оставьте такими же, как при первом построении модели. Сохраните новую модель в другую переменную (не перезаписывайте предыдущую модель). Не забудьте про фиксирование seed!\n",
    "\n",
    "Затем воспользуйтесь методом *top_topics* модели, чтобы вычислить ее когерентность. Передайте в качестве аргумента соответствующий модели корпус. Метод вернет список кортежей (топ токенов, когерентность), отсортированных по убыванию последней. Вычислите среднюю по всем темам когерентность для каждой из двух моделей и передайте в функцию save_answers3. "
   ]
  },
  {
   "cell_type": "code",
   "execution_count": 17,
   "metadata": {},
   "outputs": [
    {
     "name": "stdout",
     "output_type": "stream",
     "text": [
      "Wall time: 5min 47s\n"
     ]
    }
   ],
   "source": [
    "np.random.seed(76543)\n",
    "%time ldamodel2 = models.LdaModel(corpus=corpus2, id2word=dictionary2, num_topics=40, passes=5)"
   ]
  },
  {
   "cell_type": "code",
   "execution_count": 18,
   "metadata": {},
   "outputs": [],
   "source": [
    "top_topics2 = ldamodel2.top_topics(corpus=corpus2)\n",
    "top_topics = ldamodel.top_topics(corpus=corpus)"
   ]
  },
  {
   "cell_type": "code",
   "execution_count": 19,
   "metadata": {},
   "outputs": [],
   "source": [
    "def coherence(top):\n",
    "    return np.mean([t[1] for t in top])\n",
    "       "
   ]
  },
  {
   "cell_type": "code",
   "execution_count": 20,
   "metadata": {},
   "outputs": [],
   "source": [
    "coh = coherence(top_topics)\n",
    "coh2 = coherence(top_topics2)"
   ]
  },
  {
   "cell_type": "code",
   "execution_count": 21,
   "metadata": {},
   "outputs": [
    {
     "data": {
      "text/plain": [
       "-737.71902468563485"
      ]
     },
     "execution_count": 21,
     "metadata": {},
     "output_type": "execute_result"
    }
   ],
   "source": [
    "coh2"
   ]
  },
  {
   "cell_type": "code",
   "execution_count": 22,
   "metadata": {},
   "outputs": [],
   "source": [
    "def save_answers3(coherence, coherence2):\n",
    "    with open(\"cooking_LDA_pa_task3.txt\", \"w\") as fout:\n",
    "        fout.write(\" \".join([\"%3f\"%el for el in [coherence, coherence2]]))"
   ]
  },
  {
   "cell_type": "code",
   "execution_count": 23,
   "metadata": {},
   "outputs": [],
   "source": [
    "save_answers3(coh, coh2)"
   ]
  },
  {
   "cell_type": "markdown",
   "metadata": {},
   "source": [
    "Считается, что когерентность хорошо соотносится с человеческими оценками интерпретируемости тем. Поэтому на больших текстовых коллекциях когерентность обычно повышается, если убрать фоновую лексику. Однако в нашем случае этого не произошло. "
   ]
  },
  {
   "cell_type": "markdown",
   "metadata": {},
   "source": [
    "### Изучение влияния гиперпараметра alpha"
   ]
  },
  {
   "cell_type": "markdown",
   "metadata": {},
   "source": [
    "В этом разделе мы будем работать со второй моделью, то есть той, которая построена по сокращенному корпусу. \n",
    "\n",
    "Пока что мы посмотрели только на матрицу темы-слова, теперь давайте посмотрим на матрицу темы-документы. Выведите темы для нулевого (или любого другого) документа из корпуса, воспользовавшись методом *get_document_topics* второй модели:"
   ]
  },
  {
   "cell_type": "code",
   "execution_count": 27,
   "metadata": {},
   "outputs": [
    {
     "data": {
      "text/plain": [
       "[(19, 0.29847296262118655),\n",
       " (24, 0.3134477377481511),\n",
       " (29, 0.15963155875095586),\n",
       " (31, 0.12844774087970612)]"
      ]
     },
     "execution_count": 27,
     "metadata": {},
     "output_type": "execute_result"
    }
   ],
   "source": [
    "ldamodel2.get_document_topics(corpus2[1])"
   ]
  },
  {
   "cell_type": "markdown",
   "metadata": {},
   "source": [
    "Также выведите содержимое переменной *.alpha* второй модели:"
   ]
  },
  {
   "cell_type": "code",
   "execution_count": 28,
   "metadata": {},
   "outputs": [
    {
     "data": {
      "text/plain": [
       "array([ 0.025,  0.025,  0.025,  0.025,  0.025,  0.025,  0.025,  0.025,\n",
       "        0.025,  0.025,  0.025,  0.025,  0.025,  0.025,  0.025,  0.025,\n",
       "        0.025,  0.025,  0.025,  0.025,  0.025,  0.025,  0.025,  0.025,\n",
       "        0.025,  0.025,  0.025,  0.025,  0.025,  0.025,  0.025,  0.025,\n",
       "        0.025,  0.025,  0.025,  0.025,  0.025,  0.025,  0.025,  0.025])"
      ]
     },
     "execution_count": 28,
     "metadata": {},
     "output_type": "execute_result"
    }
   ],
   "source": [
    "ldamodel2.alpha"
   ]
  },
  {
   "cell_type": "markdown",
   "metadata": {},
   "source": [
    "У вас должно получиться, что документ характеризуется небольшим числом тем. Попробуем поменять гиперпараметр alpha, задающий априорное распределение Дирихле для распределений тем в документах."
   ]
  },
  {
   "cell_type": "markdown",
   "metadata": {},
   "source": [
    "__Задание 4.__ Обучите третью модель: используйте сокращенный корпус (corpus2 и dictionary2) и установите параметр __alpha=1__, passes=5. Не забудьте про фиксацию seed! Выведите темы новой модели для нулевого документа; должно получиться, что распределение над множеством тем практически равномерное. Чтобы убедиться в том, что во второй модели документы описываются гораздо более разреженными распределениями, чем в третьей, посчитайте суммарное количество элементов, __превосходящих 0.01__, в матрицах темы-документы обеих моделей. Другими словами, запросите темы  модели для каждого документа с параметром *minimum_probability=0.01* и просуммируйте число элементов в получаемых массивах. Передайте две суммы (сначала для модели с alpha по умолчанию, затем для модели в alpha=1) в функцию save_answers4."
   ]
  },
  {
   "cell_type": "code",
   "execution_count": 29,
   "metadata": {},
   "outputs": [
    {
     "name": "stdout",
     "output_type": "stream",
     "text": [
      "Wall time: 18min 42s\n"
     ]
    }
   ],
   "source": [
    "np.random.seed(76543)\n",
    "%time ldamodel3 = models.LdaModel(corpus=corpus2, id2word=dictionary2, num_topics=40, passes=5, alpha=1)"
   ]
  },
  {
   "cell_type": "code",
   "execution_count": null,
   "metadata": {},
   "outputs": [],
   "source": []
  },
  {
   "cell_type": "code",
   "execution_count": 38,
   "metadata": {},
   "outputs": [],
   "source": [
    "l2_prob = ldamodel2.get_document_topics(corpus2, minimum_probability=0.01)\n",
    "l3_prob = ldamodel3.get_document_topics(corpus2, minimum_probability=0.01)"
   ]
  },
  {
   "cell_type": "code",
   "execution_count": 43,
   "metadata": {},
   "outputs": [
    {
     "data": {
      "text/plain": [
       "198091"
      ]
     },
     "execution_count": 43,
     "metadata": {},
     "output_type": "execute_result"
    }
   ],
   "source": [
    "s2 = 0\n",
    "for c in corpus2:\n",
    "    p2 = ldamodel2.get_document_topics(c, minimum_probability=0.01)\n",
    "    s2 = s2 + len(p2)"
   ]
  },
  {
   "cell_type": "code",
   "execution_count": 44,
   "metadata": {},
   "outputs": [],
   "source": [
    "s3 = 0\n",
    "for c in corpus2:\n",
    "    p3 = ldamodel3.get_document_topics(c, minimum_probability=0.01)\n",
    "    s3 = s3 + len(p3)"
   ]
  },
  {
   "cell_type": "code",
   "execution_count": 45,
   "metadata": {},
   "outputs": [
    {
     "data": {
      "text/plain": [
       "198091"
      ]
     },
     "execution_count": 45,
     "metadata": {},
     "output_type": "execute_result"
    }
   ],
   "source": [
    "s2"
   ]
  },
  {
   "cell_type": "code",
   "execution_count": 46,
   "metadata": {},
   "outputs": [
    {
     "data": {
      "text/plain": [
       "1590960"
      ]
     },
     "execution_count": 46,
     "metadata": {},
     "output_type": "execute_result"
    }
   ],
   "source": [
    "s3"
   ]
  },
  {
   "cell_type": "code",
   "execution_count": 47,
   "metadata": {},
   "outputs": [],
   "source": [
    "def save_answers4(count_model2, count_model3):\n",
    "    with open(\"cooking_LDA_pa_task4.txt\", \"w\") as fout:\n",
    "        fout.write(\" \".join([str(el) for el in [count_model2, count_model3]]))"
   ]
  },
  {
   "cell_type": "code",
   "execution_count": 48,
   "metadata": {},
   "outputs": [],
   "source": [
    "save_answers4(s2, s3)"
   ]
  },
  {
   "cell_type": "markdown",
   "metadata": {},
   "source": [
    "Таким образом, гиперпараметр __alpha__ влияет на разреженность распределений тем в документах. Аналогично гиперпараметр __eta__ влияет на разреженность распределений слов в темах."
   ]
  },
  {
   "cell_type": "markdown",
   "metadata": {},
   "source": [
    "### LDA как способ понижения размерности\n",
    "Иногда, распределения над темами, найденные с помощью LDA, добавляют в матрицу объекты-признаки как дополнительные, семантические, признаки, и это может улучшить качество решения задачи. Для простоты давайте просто обучим классификатор рецептов на кухни на признаках, полученных из LDA, и измерим точность (accuracy).\n",
    "\n",
    "__Задание 5.__ Используйте модель, построенную по сокращенной выборке с alpha по умолчанию (вторую модель). Составьте матрицу $\\Theta = p(t|d)$ вероятностей тем в документах; вы можете использовать тот же метод get_document_topics, а также вектор правильных ответов y (в том же порядке, в котором рецепты идут в переменной recipes). Создайте объект RandomForestClassifier со 100 деревьями, с помощью функции cross_val_score вычислите среднюю accuracy по трем фолдам (перемешивать данные не нужно) и передайте в функцию save_answers5."
   ]
  },
  {
   "cell_type": "code",
   "execution_count": 49,
   "metadata": {},
   "outputs": [
    {
     "name": "stderr",
     "output_type": "stream",
     "text": [
      "D:\\Programs\\Anaconda\\envs\\py27\\lib\\site-packages\\sklearn\\cross_validation.py:41: DeprecationWarning: This module was deprecated in version 0.18 in favor of the model_selection module into which all the refactored classes and functions are moved. Also note that the interface of the new CV iterators are different from that of this module. This module will be removed in 0.20.\n",
      "  \"This module will be removed in 0.20.\", DeprecationWarning)\n"
     ]
    }
   ],
   "source": [
    "from sklearn.ensemble import RandomForestClassifier\n",
    "from sklearn.cross_validation import cross_val_score"
   ]
  },
  {
   "cell_type": "code",
   "execution_count": 50,
   "metadata": {},
   "outputs": [],
   "source": [
    "l2_doc_top = ldamodel2.get_document_topics(corpus2)"
   ]
  },
  {
   "cell_type": "code",
   "execution_count": null,
   "metadata": {
    "collapsed": true
   },
   "outputs": [],
   "source": []
  },
  {
   "cell_type": "code",
   "execution_count": null,
   "metadata": {
    "collapsed": true
   },
   "outputs": [],
   "source": []
  },
  {
   "cell_type": "code",
   "execution_count": null,
   "metadata": {
    "collapsed": true
   },
   "outputs": [],
   "source": [
    "def save_answers5(accuracy):\n",
    "     with open(\"cooking_LDA_pa_task5.txt\", \"w\") as fout:\n",
    "        fout.write(str(accuracy))"
   ]
  },
  {
   "cell_type": "markdown",
   "metadata": {},
   "source": [
    "Для такого большого количества классов это неплохая точность. Вы можете попроовать обучать RandomForest на исходной матрице частот слов, имеющей значительно большую размерность, и увидеть, что accuracy увеличивается на 10–15%. Таким образом, LDA собрал не всю, но достаточно большую часть информации из выборки, в матрице низкого ранга."
   ]
  },
  {
   "cell_type": "markdown",
   "metadata": {},
   "source": [
    "### LDA — вероятностная модель\n",
    "Матричное разложение, использующееся в LDA, интерпретируется как следующий процесс генерации документов.\n",
    "\n",
    "Для документа $d$ длины $n_d$:\n",
    "1. Из априорного распределения Дирихле с параметром alpha сгенерировать распределение над множеством тем: $\\theta_d \\sim Dirichlet(\\alpha)$\n",
    "1. Для каждого слова $w = 1, \\dots, n_d$:\n",
    "    1. Сгенерировать тему из дискретного распределения $t \\sim \\theta_{d}$\n",
    "    1. Сгенерировать слово из дискретного распределения $w \\sim \\phi_{t}$.\n",
    "    \n",
    "Подробнее об этом в [Википедии](https://en.wikipedia.org/wiki/Latent_Dirichlet_allocation).\n",
    "\n",
    "В контексте нашей задачи получается, что, используя данный генеративный процесс, можно создавать новые рецепты. Вы можете передать в функцию модель и число ингредиентов и сгенерировать рецепт :)"
   ]
  },
  {
   "cell_type": "code",
   "execution_count": null,
   "metadata": {},
   "outputs": [],
   "source": [
    "def generate_recipe(model, num_ingredients):\n",
    "    theta = np.random.dirichlet(model.alpha)\n",
    "    for i in range(num_ingredients):\n",
    "        t = np.random.choice(np.arange(model.num_topics), p=theta)\n",
    "        topic = model.show_topic(t, topn=model.num_terms)\n",
    "        topic_distr = [x[1] for x in topic]\n",
    "        terms = [x[0] for x in topic]\n",
    "        w = np.random.choice(terms, p=topic_distr)\n",
    "        print w"
   ]
  },
  {
   "cell_type": "code",
   "execution_count": null,
   "metadata": {
    "collapsed": true
   },
   "outputs": [],
   "source": []
  },
  {
   "cell_type": "markdown",
   "metadata": {},
   "source": [
    "### Интерпретация построенной модели\n",
    "Вы можете рассмотреть топы ингредиентов каждой темы. Большиснтво тем сами по себе похожи на рецепты; в некоторых собираются продукты одного вида, например, свежие фрукты или разные виды сыра.\n",
    "\n",
    "Попробуем эмпирически соотнести наши темы с национальными кухнями (cuisine). Построим матрицу $A$ размера темы $x$ кухни, ее элементы $a_{tc}$ — суммы $p(t|d)$ по всем документам $d$, которые отнесены к кухне $c$. Нормируем матрицу на частоты рецептов по разным кухням, чтобы избежать дисбаланса между кухнями. Следующая функция получает на вход объект модели, объект корпуса и исходные данные и возвращает нормированную матрицу $A$. Ее удобно визуализировать с помощью seaborn."
   ]
  },
  {
   "cell_type": "code",
   "execution_count": null,
   "metadata": {
    "collapsed": true
   },
   "outputs": [],
   "source": [
    "import pandas\n",
    "import seaborn\n",
    "from matplotlib import pyplot as plt\n",
    "%matplotlib inline"
   ]
  },
  {
   "cell_type": "code",
   "execution_count": null,
   "metadata": {
    "collapsed": true
   },
   "outputs": [],
   "source": [
    "def compute_topic_cuisine_matrix(model, corpus, recipes):\n",
    "    # составляем вектор целевых признаков\n",
    "    targets = list(set([recipe[\"cuisine\"] for recipe in recipes]))\n",
    "    # составляем матрицу\n",
    "    tc_matrix = pandas.DataFrame(data=np.zeros((model.num_topics, len(targets))), columns=targets)\n",
    "    for recipe, bow in zip(recipes, corpus):\n",
    "        recipe_topic = model.get_document_topics(bow)\n",
    "        for t, prob in recipe_topic:\n",
    "            tc_matrix[recipe[\"cuisine\"]][t] += prob\n",
    "    # нормируем матрицу\n",
    "    target_sums = pandas.DataFrame(data=np.zeros((1, len(targets))), columns=targets)\n",
    "    for recipe in recipes:\n",
    "        target_sums[recipe[\"cuisine\"]] += 1\n",
    "    return pandas.DataFrame(tc_matrix.values/target_sums.values, columns=tc_matrix.columns)"
   ]
  },
  {
   "cell_type": "code",
   "execution_count": null,
   "metadata": {
    "collapsed": true
   },
   "outputs": [],
   "source": [
    "def plot_matrix(tc_matrix):\n",
    "    plt.figure(figsize=(10, 10))\n",
    "    seaborn.heatmap(tc_matrix, square=True)"
   ]
  },
  {
   "cell_type": "code",
   "execution_count": null,
   "metadata": {
    "collapsed": true
   },
   "outputs": [],
   "source": [
    "# Визуализируйте матрицу\n"
   ]
  },
  {
   "cell_type": "markdown",
   "metadata": {},
   "source": [
    "Чем темнее квадрат в матрице, тем больше связь этой темы с данной кухней. Мы видим, что у нас есть темы, которые связаны с несколькими кухнями. Такие темы показывают набор ингредиентов, которые популярны в кухнях нескольких народов, то есть указывают на схожесть кухонь этих народов. Некоторые темы распределены по всем кухням равномерно, они показывают наборы продуктов, которые часто используются в кулинарии всех стран. "
   ]
  },
  {
   "cell_type": "markdown",
   "metadata": {},
   "source": [
    "Жаль, что в датасете нет названий рецептов, иначе темы было бы проще интерпретировать..."
   ]
  },
  {
   "cell_type": "markdown",
   "metadata": {},
   "source": [
    "### Заключение\n",
    "В этом задании вы построили несколько моделей LDA, посмотрели, на что влияют гиперпараметры модели и как можно использовать построенную модель. "
   ]
  }
 ],
 "metadata": {
  "kernelspec": {
   "display_name": "Python 2",
   "language": "python",
   "name": "python2"
  },
  "language_info": {
   "codemirror_mode": {
    "name": "ipython",
    "version": 2
   },
   "file_extension": ".py",
   "mimetype": "text/x-python",
   "name": "python",
   "nbconvert_exporter": "python",
   "pygments_lexer": "ipython2",
   "version": "2.7.15"
  }
 },
 "nbformat": 4,
 "nbformat_minor": 1
}
